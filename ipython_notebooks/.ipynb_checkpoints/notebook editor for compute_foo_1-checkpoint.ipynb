{
 "cells": [
  {
   "cell_type": "code",
   "execution_count": 0,
   "metadata": {
    "collapsed": true
   },
   "outputs": [],
   "source": [
    "# -*- coding: utf-8 -*-\n",
    "import dataiku\n",
    "import pandas as pd, numpy as np\n",
    "from dataiku import pandasutils as pdu\n",
    "\n",
    "# Recipe inputs\n",
    "\n",
    "orders_enriched_prepared = dataiku.Dataset(\"Orders_enriched_prepared\")\n",
    "orders_enriched_prepared_df = orders_enriched_prepared.get_dataframe()\n",
    "\n",
    "# Recipe outputs\n",
    "foo = dataiku.Dataset(\"foo\")\n",
    "foo.write_with_schema(pandas_dataframe)"
   ]
  }
 ],
 "metadata": {
  "associatedRecipe": "compute_foo",
  "creator": "admin",
  "kernelspec": {
   "display_name": "Python (env Python36)",
   "language": "python",
   "name": "py-dku-venv-python36"
  },
  "language_info": {
   "codemirror_mode": {
    "name": "ipython",
    "version": 3
   },
   "file_extension": ".py",
   "mimetype": "text/x-python",
   "name": "python",
   "nbconvert_exporter": "python",
   "pygments_lexer": "ipython3",
   "version": "3.6.2"
  },
  "tags": [
   "recipe-editor"
  ]
 },
 "nbformat": 4,
 "nbformat_minor": 0
}
